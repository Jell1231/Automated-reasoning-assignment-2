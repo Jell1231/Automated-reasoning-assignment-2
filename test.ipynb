{
 "cells": [
  {
   "cell_type": "code",
   "execution_count": 25,
   "metadata": {},
   "outputs": [
    {
     "name": "stdout",
     "output_type": "stream",
     "text": [
      "Note: you may need to restart the kernel to use updated packages.\n"
     ]
    },
    {
     "name": "stderr",
     "output_type": "stream",
     "text": [
      "\n",
      "Usage:   \n",
      "  c:\\Users\\20183239\\Anaconda3\\python.exe -m pip install [options] <requirement specifier> [package-index-options] ...\n",
      "  c:\\Users\\20183239\\Anaconda3\\python.exe -m pip install [options] -r <requirements file> [package-index-options] ...\n",
      "  c:\\Users\\20183239\\Anaconda3\\python.exe -m pip install [options] [-e] <vcs project url> ...\n",
      "  c:\\Users\\20183239\\Anaconda3\\python.exe -m pip install [options] [-e] <local project path> ...\n",
      "  c:\\Users\\20183239\\Anaconda3\\python.exe -m pip install [options] <archive url/path> ...\n",
      "\n",
      "no such option: --cudd\n"
     ]
    }
   ],
   "source": [
    "pip install dd --cudd"
   ]
  },
  {
   "cell_type": "code",
   "execution_count": 1,
   "metadata": {},
   "outputs": [],
   "source": [
    "from dd.autoref import BDD, Function\n",
    "\n",
    "bdd = BDD()\n",
    "[bdd.add_var(var) for var in ['x_10_9', 'y']]\n",
    "u = bdd.add_expr('x_10_9 & y') # TLA+ syntax\n",
    "u = bdd.add_expr('x_10_9 | y') # Promela syntax\n"
   ]
  },
  {
   "cell_type": "code",
   "execution_count": 2,
   "metadata": {},
   "outputs": [
    {
     "name": "stdout",
     "output_type": "stream",
     "text": [
      "False\n",
      "True\n"
     ]
    }
   ],
   "source": [
    "bdd = BDD()\n",
    "x = ['x', 'y', 'z']\n",
    "[bdd.add_var(var) for var in x]\n",
    "u = bdd.add_expr(r'(x /\\ y) \\/ ~ z')\n",
    "print(u.negated)\n",
    "v = ~ u\n",
    "print(v.negated)\n",
    "bdd.collect_garbage()\n",
    "bdd.dump('manager.p')"
   ]
  },
  {
   "cell_type": "code",
   "execution_count": 43,
   "metadata": {},
   "outputs": [],
   "source": [
    "a = bdd.add_var('a')\n",
    "b = bdd.add_var('b')\n"
   ]
  },
  {
   "cell_type": "code",
   "execution_count": 45,
   "metadata": {},
   "outputs": [
    {
     "ename": "FileNotFoundError",
     "evalue": "[WinError 2] \"dot\" not found in path.",
     "output_type": "error",
     "traceback": [
      "\u001b[1;31m---------------------------------------------------------------------------\u001b[0m",
      "\u001b[1;31mFileNotFoundError\u001b[0m                         Traceback (most recent call last)",
      "\u001b[1;32mc:\\Users\\20183239\\Anaconda3\\lib\\site-packages\\pydot.py\u001b[0m in \u001b[0;36mcreate\u001b[1;34m(self, prog, format, encoding)\u001b[0m\n\u001b[0;32m   1922\u001b[0m         \u001b[1;32mtry\u001b[0m\u001b[1;33m:\u001b[0m\u001b[1;33m\u001b[0m\u001b[1;33m\u001b[0m\u001b[0m\n\u001b[1;32m-> 1923\u001b[1;33m             stdout_data, stderr_data, process = call_graphviz(\n\u001b[0m\u001b[0;32m   1924\u001b[0m                 \u001b[0mprogram\u001b[0m\u001b[1;33m=\u001b[0m\u001b[0mprog\u001b[0m\u001b[1;33m,\u001b[0m\u001b[1;33m\u001b[0m\u001b[1;33m\u001b[0m\u001b[0m\n",
      "\u001b[1;32mc:\\Users\\20183239\\Anaconda3\\lib\\site-packages\\pydot.py\u001b[0m in \u001b[0;36mcall_graphviz\u001b[1;34m(program, arguments, working_dir, **kwargs)\u001b[0m\n\u001b[0;32m    131\u001b[0m \u001b[1;33m\u001b[0m\u001b[0m\n\u001b[1;32m--> 132\u001b[1;33m     process = subprocess.Popen(\n\u001b[0m\u001b[0;32m    133\u001b[0m         \u001b[0mprogram_with_args\u001b[0m\u001b[1;33m,\u001b[0m\u001b[1;33m\u001b[0m\u001b[1;33m\u001b[0m\u001b[0m\n",
      "\u001b[1;32mc:\\Users\\20183239\\Anaconda3\\lib\\subprocess.py\u001b[0m in \u001b[0;36m__init__\u001b[1;34m(self, args, bufsize, executable, stdin, stdout, stderr, preexec_fn, close_fds, shell, cwd, env, universal_newlines, startupinfo, creationflags, restore_signals, start_new_session, pass_fds, user, group, extra_groups, encoding, errors, text, umask)\u001b[0m\n\u001b[0;32m    950\u001b[0m \u001b[1;33m\u001b[0m\u001b[0m\n\u001b[1;32m--> 951\u001b[1;33m             self._execute_child(args, executable, preexec_fn, close_fds,\n\u001b[0m\u001b[0;32m    952\u001b[0m                                 \u001b[0mpass_fds\u001b[0m\u001b[1;33m,\u001b[0m \u001b[0mcwd\u001b[0m\u001b[1;33m,\u001b[0m \u001b[0menv\u001b[0m\u001b[1;33m,\u001b[0m\u001b[1;33m\u001b[0m\u001b[1;33m\u001b[0m\u001b[0m\n",
      "\u001b[1;32mc:\\Users\\20183239\\Anaconda3\\lib\\subprocess.py\u001b[0m in \u001b[0;36m_execute_child\u001b[1;34m(self, args, executable, preexec_fn, close_fds, pass_fds, cwd, env, startupinfo, creationflags, shell, p2cread, p2cwrite, c2pread, c2pwrite, errread, errwrite, unused_restore_signals, unused_gid, unused_gids, unused_uid, unused_umask, unused_start_new_session)\u001b[0m\n\u001b[0;32m   1419\u001b[0m             \u001b[1;32mtry\u001b[0m\u001b[1;33m:\u001b[0m\u001b[1;33m\u001b[0m\u001b[1;33m\u001b[0m\u001b[0m\n\u001b[1;32m-> 1420\u001b[1;33m                 hp, ht, pid, tid = _winapi.CreateProcess(executable, args,\n\u001b[0m\u001b[0;32m   1421\u001b[0m                                          \u001b[1;31m# no special security\u001b[0m\u001b[1;33m\u001b[0m\u001b[1;33m\u001b[0m\u001b[0m\n",
      "\u001b[1;31mFileNotFoundError\u001b[0m: [WinError 2] The system cannot find the file specified",
      "\nDuring handling of the above exception, another exception occurred:\n",
      "\u001b[1;31mFileNotFoundError\u001b[0m                         Traceback (most recent call last)",
      "\u001b[1;32m~\\AppData\\Local\\Temp/ipykernel_14596/3294558284.py\u001b[0m in \u001b[0;36m<module>\u001b[1;34m\u001b[0m\n\u001b[0;32m     15\u001b[0m \u001b[1;32mfor\u001b[0m \u001b[0md\u001b[0m \u001b[1;32min\u001b[0m \u001b[0mdata\u001b[0m\u001b[1;33m:\u001b[0m\u001b[1;33m\u001b[0m\u001b[1;33m\u001b[0m\u001b[0m\n\u001b[0;32m     16\u001b[0m     \u001b[0mu\u001b[0m \u001b[1;33m|=\u001b[0m \u001b[0mbdd\u001b[0m\u001b[1;33m.\u001b[0m\u001b[0mcube\u001b[0m\u001b[1;33m(\u001b[0m\u001b[0md\u001b[0m\u001b[1;33m)\u001b[0m  \u001b[1;31m# disjunction so far\u001b[0m\u001b[1;33m\u001b[0m\u001b[1;33m\u001b[0m\u001b[0m\n\u001b[1;32m---> 17\u001b[1;33m \u001b[0mbdd\u001b[0m\u001b[1;33m.\u001b[0m\u001b[0mdump\u001b[0m\u001b[1;33m(\u001b[0m\u001b[1;34m'example'\u001b[0m\u001b[1;33m,\u001b[0m \u001b[0mroots\u001b[0m\u001b[1;33m=\u001b[0m\u001b[1;33m[\u001b[0m\u001b[0mu\u001b[0m\u001b[1;33m]\u001b[0m\u001b[1;33m,\u001b[0m \u001b[0mfiletype\u001b[0m\u001b[1;33m=\u001b[0m\u001b[1;34m'pdf'\u001b[0m\u001b[1;33m)\u001b[0m\u001b[1;33m\u001b[0m\u001b[1;33m\u001b[0m\u001b[0m\n\u001b[0m",
      "\u001b[1;32mc:\\Users\\20183239\\Anaconda3\\lib\\site-packages\\dd\\autoref.py\u001b[0m in \u001b[0;36mdump\u001b[1;34m(self, filename, roots, filetype, **kw)\u001b[0m\n\u001b[0;32m    251\u001b[0m             \u001b[1;32mif\u001b[0m \u001b[0mroots\u001b[0m \u001b[1;32mis\u001b[0m \u001b[1;32mnot\u001b[0m \u001b[1;32mNone\u001b[0m\u001b[1;33m:\u001b[0m\u001b[1;33m\u001b[0m\u001b[1;33m\u001b[0m\u001b[0m\n\u001b[0;32m    252\u001b[0m                 \u001b[0mroots\u001b[0m \u001b[1;33m=\u001b[0m \u001b[1;33m[\u001b[0m\u001b[0mu\u001b[0m\u001b[1;33m.\u001b[0m\u001b[0mnode\u001b[0m \u001b[1;32mfor\u001b[0m \u001b[0mu\u001b[0m \u001b[1;32min\u001b[0m \u001b[0mroots\u001b[0m\u001b[1;33m]\u001b[0m\u001b[1;33m\u001b[0m\u001b[1;33m\u001b[0m\u001b[0m\n\u001b[1;32m--> 253\u001b[1;33m             self._bdd.dump(filename, roots=roots,\n\u001b[0m\u001b[0;32m    254\u001b[0m                            filetype=filetype)\n\u001b[0;32m    255\u001b[0m \u001b[1;33m\u001b[0m\u001b[0m\n",
      "\u001b[1;32mc:\\Users\\20183239\\Anaconda3\\lib\\site-packages\\dd\\bdd.py\u001b[0m in \u001b[0;36mdump\u001b[1;34m(self, filename, roots, filetype, **kw)\u001b[0m\n\u001b[0;32m   1369\u001b[0m                         f=filename))\n\u001b[0;32m   1370\u001b[0m         \u001b[1;32mif\u001b[0m \u001b[0mfiletype\u001b[0m \u001b[1;32min\u001b[0m \u001b[1;33m(\u001b[0m\u001b[1;34m'pdf'\u001b[0m\u001b[1;33m,\u001b[0m \u001b[1;34m'png'\u001b[0m\u001b[1;33m,\u001b[0m \u001b[1;34m'svg'\u001b[0m\u001b[1;33m)\u001b[0m\u001b[1;33m:\u001b[0m\u001b[1;33m\u001b[0m\u001b[1;33m\u001b[0m\u001b[0m\n\u001b[1;32m-> 1371\u001b[1;33m             self._dump_figure(roots, filename,\n\u001b[0m\u001b[0;32m   1372\u001b[0m                               filetype, **kw)\n\u001b[0;32m   1373\u001b[0m         \u001b[1;32melif\u001b[0m \u001b[0mfiletype\u001b[0m \u001b[1;33m==\u001b[0m \u001b[1;34m'pickle'\u001b[0m\u001b[1;33m:\u001b[0m\u001b[1;33m\u001b[0m\u001b[1;33m\u001b[0m\u001b[0m\n",
      "\u001b[1;32mc:\\Users\\20183239\\Anaconda3\\lib\\site-packages\\dd\\bdd.py\u001b[0m in \u001b[0;36m_dump_figure\u001b[1;34m(self, roots, filename, filetype, **kw)\u001b[0m\n\u001b[0;32m   1383\u001b[0m         \u001b[0mg\u001b[0m \u001b[1;33m=\u001b[0m \u001b[0mto_pydot\u001b[0m\u001b[1;33m(\u001b[0m\u001b[0mroots\u001b[0m\u001b[1;33m,\u001b[0m \u001b[0mself\u001b[0m\u001b[1;33m)\u001b[0m\u001b[1;33m\u001b[0m\u001b[1;33m\u001b[0m\u001b[0m\n\u001b[0;32m   1384\u001b[0m         \u001b[1;32mif\u001b[0m \u001b[0mfiletype\u001b[0m \u001b[1;33m==\u001b[0m \u001b[1;34m'pdf'\u001b[0m\u001b[1;33m:\u001b[0m\u001b[1;33m\u001b[0m\u001b[1;33m\u001b[0m\u001b[0m\n\u001b[1;32m-> 1385\u001b[1;33m             \u001b[0mg\u001b[0m\u001b[1;33m.\u001b[0m\u001b[0mwrite_pdf\u001b[0m\u001b[1;33m(\u001b[0m\u001b[0mfilename\u001b[0m\u001b[1;33m,\u001b[0m \u001b[1;33m**\u001b[0m\u001b[0mkw\u001b[0m\u001b[1;33m)\u001b[0m\u001b[1;33m\u001b[0m\u001b[1;33m\u001b[0m\u001b[0m\n\u001b[0m\u001b[0;32m   1386\u001b[0m         \u001b[1;32melif\u001b[0m \u001b[0mfiletype\u001b[0m \u001b[1;33m==\u001b[0m \u001b[1;34m'png'\u001b[0m\u001b[1;33m:\u001b[0m\u001b[1;33m\u001b[0m\u001b[1;33m\u001b[0m\u001b[0m\n\u001b[0;32m   1387\u001b[0m             \u001b[0mg\u001b[0m\u001b[1;33m.\u001b[0m\u001b[0mwrite_png\u001b[0m\u001b[1;33m(\u001b[0m\u001b[0mfilename\u001b[0m\u001b[1;33m,\u001b[0m \u001b[1;33m**\u001b[0m\u001b[0mkw\u001b[0m\u001b[1;33m)\u001b[0m\u001b[1;33m\u001b[0m\u001b[1;33m\u001b[0m\u001b[0m\n",
      "\u001b[1;32mc:\\Users\\20183239\\Anaconda3\\lib\\site-packages\\pydot.py\u001b[0m in \u001b[0;36mnew_method\u001b[1;34m(path, f, prog, encoding)\u001b[0m\n\u001b[0;32m   1741\u001b[0m                     encoding=None):\n\u001b[0;32m   1742\u001b[0m                 \u001b[1;34m\"\"\"Refer to docstring of method `write.`\"\"\"\u001b[0m\u001b[1;33m\u001b[0m\u001b[1;33m\u001b[0m\u001b[0m\n\u001b[1;32m-> 1743\u001b[1;33m                 self.write(\n\u001b[0m\u001b[0;32m   1744\u001b[0m                     \u001b[0mpath\u001b[0m\u001b[1;33m,\u001b[0m \u001b[0mformat\u001b[0m\u001b[1;33m=\u001b[0m\u001b[0mf\u001b[0m\u001b[1;33m,\u001b[0m \u001b[0mprog\u001b[0m\u001b[1;33m=\u001b[0m\u001b[0mprog\u001b[0m\u001b[1;33m,\u001b[0m\u001b[1;33m\u001b[0m\u001b[1;33m\u001b[0m\u001b[0m\n\u001b[0;32m   1745\u001b[0m                     encoding=encoding)\n",
      "\u001b[1;32mc:\\Users\\20183239\\Anaconda3\\lib\\site-packages\\pydot.py\u001b[0m in \u001b[0;36mwrite\u001b[1;34m(self, path, prog, format, encoding)\u001b[0m\n\u001b[0;32m   1826\u001b[0m                 \u001b[0mf\u001b[0m\u001b[1;33m.\u001b[0m\u001b[0mwrite\u001b[0m\u001b[1;33m(\u001b[0m\u001b[0ms\u001b[0m\u001b[1;33m)\u001b[0m\u001b[1;33m\u001b[0m\u001b[1;33m\u001b[0m\u001b[0m\n\u001b[0;32m   1827\u001b[0m         \u001b[1;32melse\u001b[0m\u001b[1;33m:\u001b[0m\u001b[1;33m\u001b[0m\u001b[1;33m\u001b[0m\u001b[0m\n\u001b[1;32m-> 1828\u001b[1;33m             \u001b[0ms\u001b[0m \u001b[1;33m=\u001b[0m \u001b[0mself\u001b[0m\u001b[1;33m.\u001b[0m\u001b[0mcreate\u001b[0m\u001b[1;33m(\u001b[0m\u001b[0mprog\u001b[0m\u001b[1;33m,\u001b[0m \u001b[0mformat\u001b[0m\u001b[1;33m,\u001b[0m \u001b[0mencoding\u001b[0m\u001b[1;33m=\u001b[0m\u001b[0mencoding\u001b[0m\u001b[1;33m)\u001b[0m\u001b[1;33m\u001b[0m\u001b[1;33m\u001b[0m\u001b[0m\n\u001b[0m\u001b[0;32m   1829\u001b[0m             \u001b[1;32mwith\u001b[0m \u001b[0mio\u001b[0m\u001b[1;33m.\u001b[0m\u001b[0mopen\u001b[0m\u001b[1;33m(\u001b[0m\u001b[0mpath\u001b[0m\u001b[1;33m,\u001b[0m \u001b[0mmode\u001b[0m\u001b[1;33m=\u001b[0m\u001b[1;34m'wb'\u001b[0m\u001b[1;33m)\u001b[0m \u001b[1;32mas\u001b[0m \u001b[0mf\u001b[0m\u001b[1;33m:\u001b[0m\u001b[1;33m\u001b[0m\u001b[1;33m\u001b[0m\u001b[0m\n\u001b[0;32m   1830\u001b[0m                 \u001b[0mf\u001b[0m\u001b[1;33m.\u001b[0m\u001b[0mwrite\u001b[0m\u001b[1;33m(\u001b[0m\u001b[0ms\u001b[0m\u001b[1;33m)\u001b[0m\u001b[1;33m\u001b[0m\u001b[1;33m\u001b[0m\u001b[0m\n",
      "\u001b[1;32mc:\\Users\\20183239\\Anaconda3\\lib\\site-packages\\pydot.py\u001b[0m in \u001b[0;36mcreate\u001b[1;34m(self, prog, format, encoding)\u001b[0m\n\u001b[0;32m   1931\u001b[0m                 args[1] = '\"{prog}\" not found in path.'.format(\n\u001b[0;32m   1932\u001b[0m                     prog=prog)\n\u001b[1;32m-> 1933\u001b[1;33m                 \u001b[1;32mraise\u001b[0m \u001b[0mOSError\u001b[0m\u001b[1;33m(\u001b[0m\u001b[1;33m*\u001b[0m\u001b[0margs\u001b[0m\u001b[1;33m)\u001b[0m\u001b[1;33m\u001b[0m\u001b[1;33m\u001b[0m\u001b[0m\n\u001b[0m\u001b[0;32m   1934\u001b[0m             \u001b[1;32melse\u001b[0m\u001b[1;33m:\u001b[0m\u001b[1;33m\u001b[0m\u001b[1;33m\u001b[0m\u001b[0m\n\u001b[0;32m   1935\u001b[0m                 \u001b[1;32mraise\u001b[0m\u001b[1;33m\u001b[0m\u001b[1;33m\u001b[0m\u001b[0m\n",
      "\u001b[1;31mFileNotFoundError\u001b[0m: [WinError 2] \"dot\" not found in path."
     ]
    }
   ],
   "source": [
    "from dd import autoref\n",
    "\n",
    "\n",
    "bdd = autoref.BDD()\n",
    "bdd.declare('x1', 'x2', 'x3')\n",
    "# These are the assignments to the input variables\n",
    "# where the Boolean function is TRUE (the y).\n",
    "# The assignments where the Boolean function is FALSE\n",
    "# are not used in the disjunction below.\n",
    "data = [\n",
    "    dict(x1=True, x2=False, x3=True),\n",
    "    dict(x1=True, x2=True, x3=False),\n",
    "    dict(x1=True, x2=True, x3=True)]\n",
    "u = bdd.false\n",
    "for d in data:\n",
    "    u |= bdd.cube(d)  # disjunction so far\n",
    "bdd.dump('example', roots=[u], filetype='pdf')"
   ]
  },
  {
   "cell_type": "code",
   "execution_count": 57,
   "metadata": {},
   "outputs": [
    {
     "data": {
      "text/plain": [
       "'ite(x, ite(y, z, FALSE), FALSE)'"
      ]
     },
     "execution_count": 57,
     "metadata": {},
     "output_type": "execute_result"
    }
   ],
   "source": [
    "from dd import autoref as bdd\n",
    "b = bdd.BDD()\n",
    "b.add_var('x')\n",
    "b.add_var('y')\n",
    "b.add_var('z')\n",
    "u0 = b.add_expr('x & y & z')\n",
    "u1 = b.add_expr('x | z')\n",
    "u = u0 & u1\n",
    "# b.dump('output.pdf', roots=[u])\n",
    "u.to_expr()"
   ]
  },
  {
   "cell_type": "code",
   "execution_count": 1,
   "metadata": {},
   "outputs": [
    {
     "name": "stdout",
     "output_type": "stream",
     "text": [
      "k: 4, size: 31, models: 81\n"
     ]
    }
   ],
   "source": [
    "from dd import autoref as bdd\n",
    "\n",
    "b = bdd.BDD()\n",
    "k = 4\n",
    "\n",
    "vars = [f'x{i}' for i in range(k)] + [f'y{i}' for i in range(k)]\n",
    "[b.add_var(var) for var in vars]\n",
    "\n",
    "u = b.true\n",
    "for i in range(k):\n",
    "    u &= b.add_expr(f'x{i} | y{i}')\n",
    "\n",
    "print(f'k: {k}, size: {len(u)}, models: {b.count(u)}')\n"
   ]
  },
  {
   "cell_type": "code",
   "execution_count": 33,
   "metadata": {},
   "outputs": [
    {
     "data": {
      "text/plain": [
       "['(!x_1_0 & !x_2_0 & !x_1_1)',\n",
       " '(x_1_0 & !x_2_0 & !x_1_1)',\n",
       " '(!x_1_0 & x_2_0 & !x_1_1)',\n",
       " '(x_1_0 & x_2_0 & !x_1_1)']"
      ]
     },
     "execution_count": 33,
     "metadata": {},
     "output_type": "execute_result"
    }
   ],
   "source": [
    "# Assuming you have 'k' as the number of bits needed\n",
    "k = 4\n",
    "bits_needed = k.bit_length()\n",
    "clauses = []\n",
    "u=1\n",
    "v=2\n",
    "\n",
    "for i in range(k):\n",
    "    bit_vars = []\n",
    "    \n",
    "    for j in range(bits_needed):\n",
    "        bit_vars.append(f'x_{u}_{j}')\n",
    "        bit_vars.append(f'x_{v}_{j}')\n",
    "\n",
    "    # Generate a clause for the bit representation of 'i'\n",
    "    clause = []\n",
    "    for j in range(bits_needed):\n",
    "        if (i >> j) & 1:\n",
    "            clause.append(bit_vars[j])\n",
    "        else:\n",
    "            clause.append(f'!{bit_vars[j]}')\n",
    "    \n",
    "    # Combine the individual clauses with ' | ' to ensure only one bit representation is true\n",
    "    clauses.append(\"(\" + \" & \".join(clause) + \")\")\n",
    "\n",
    "# Now you have clauses for each possible bit representation\n",
    "clauses\n"
   ]
  },
  {
   "cell_type": "code",
   "execution_count": 51,
   "metadata": {},
   "outputs": [
    {
     "data": {
      "text/plain": [
       "'00101'"
      ]
     },
     "execution_count": 51,
     "metadata": {},
     "output_type": "execute_result"
    }
   ],
   "source": [
    "i = 5\n",
    "j = 16\n",
    "current = bin(i)[2:]\n",
    "bit_length = j.bit_length()\n",
    "current = f'{current.zfill(bit_length)}'\n",
    "current"
   ]
  },
  {
   "cell_type": "code",
   "execution_count": 44,
   "metadata": {},
   "outputs": [
    {
     "name": "stdout",
     "output_type": "stream",
     "text": [
      "0001010\n"
     ]
    }
   ],
   "source": [
    "def int_to_x_long_binary(n, x):\n",
    "    binary_representation = bin(n)[2:]  # Convert to binary and remove '0b' prefix\n",
    "    padded_binary = binary_representation.zfill(x)  # Pad with leading zeros to make it x bits long\n",
    "    return padded_binary\n",
    "\n",
    "x_long_binary = int_to_x_long_binary(10, 7)\n",
    "print(x_long_binary)  # Output: '001010'"
   ]
  },
  {
   "cell_type": "code",
   "execution_count": 58,
   "metadata": {},
   "outputs": [
    {
     "data": {
      "text/plain": [
       "['yes', 'no', 'no', 'no', 'yes', 'no', 'no']"
      ]
     },
     "execution_count": 58,
     "metadata": {},
     "output_type": "execute_result"
    }
   ],
   "source": [
    "x = \"bla\"\n",
    "x += \" bla\"\n",
    "bs = []\n",
    "\n",
    "for char in x:\n",
    "    bs.append(\"yes\" if char==\"b\" else \"no\")\n",
    "\n",
    "bs"
   ]
  },
  {
   "cell_type": "code",
   "execution_count": 61,
   "metadata": {},
   "outputs": [
    {
     "data": {
      "text/plain": [
       "'100'"
      ]
     },
     "execution_count": 61,
     "metadata": {},
     "output_type": "execute_result"
    }
   ],
   "source": [
    "\n",
    "bin(4)[2:]"
   ]
  },
  {
   "cell_type": "code",
   "execution_count": 10,
   "metadata": {},
   "outputs": [
    {
     "data": {
      "text/plain": [
       "['(!x_1_1 & !x_1_1)',\n",
       " '(!x_1_1 & x_1_1)',\n",
       " '(x_1_1 & !x_1_1)',\n",
       " '(x_1_1 & x_1_1)',\n",
       " '(!x_2_1 & !x_2_1)',\n",
       " '(!x_2_1 & x_2_1)',\n",
       " '(x_2_1 & !x_2_1)',\n",
       " '(x_2_1 & x_2_1)',\n",
       " '(!x_3_1 & !x_3_1)',\n",
       " '(!x_3_1 & x_3_1)',\n",
       " '(x_3_1 & !x_3_1)',\n",
       " '(x_3_1 & x_3_1)',\n",
       " '(!x_4_1 & !x_4_1)',\n",
       " '(!x_4_1 & x_4_1)',\n",
       " '(x_4_1 & !x_4_1)',\n",
       " '(x_4_1 & x_4_1)',\n",
       " '(!x_5_1 & !x_5_1)',\n",
       " '(!x_5_1 & x_5_1)',\n",
       " '(x_5_1 & !x_5_1)',\n",
       " '(x_5_1 & x_5_1)',\n",
       " '(!x_6_1 & !x_6_1)',\n",
       " '(!x_6_1 & x_6_1)',\n",
       " '(x_6_1 & !x_6_1)',\n",
       " '(x_6_1 & x_6_1)',\n",
       " '(!x_7_1 & !x_7_1)',\n",
       " '(!x_7_1 & x_7_1)',\n",
       " '(x_7_1 & !x_7_1)',\n",
       " '(x_7_1 & x_7_1)']"
      ]
     },
     "execution_count": 10,
     "metadata": {},
     "output_type": "execute_result"
    }
   ],
   "source": [
    "nodes = [1,2,3,4,5,6,7]\n",
    "color_nr = 4\n",
    "bits_needed = (color_nr-1).bit_length()\n",
    "clauses = []\n",
    "\n",
    "for i in range(0, len(nodes)*color_nr, color_nr):\n",
    "\n",
    "    for node in nodes:\n",
    "        for j in range(color_nr):\n",
    "            current = bin(j)[2:]\n",
    "            current = f'{current.zfill(bits_needed)}'\n",
    "\n",
    "            for k in range(bits_needed):\n",
    "                clause = []\n",
    "                for nr in current:\n",
    "                    clause.append(f'!x_{node}_{k}' if nr==\"0\" else f'x_{node}_{k}')\n",
    "            clauses.append(\"(\" + \" & \".join(clause) + \")\")\n",
    "\n",
    "clauses"
   ]
  },
  {
   "cell_type": "code",
   "execution_count": 12,
   "metadata": {},
   "outputs": [
    {
     "data": {
      "text/plain": [
       "['((!x_1_1 & !x_1_1) & !(!x_1_1 & x_1_1) & !(x_1_1 & !x_1_1) & !(x_1_1 & x_1_1)) | (!(!x_1_1 & !x_1_1) & (!x_1_1 & x_1_1) & !(x_1_1 & !x_1_1) & !(x_1_1 & x_1_1)) | (!(!x_1_1 & !x_1_1) & !(!x_1_1 & x_1_1) & (x_1_1 & !x_1_1) & !(x_1_1 & x_1_1)) | (!(!x_1_1 & !x_1_1) & !(!x_1_1 & x_1_1) & !(x_1_1 & !x_1_1) & (x_1_1 & x_1_1))',\n",
       " '((!x_2_1 & !x_2_1) & !(!x_2_1 & x_2_1) & !(x_2_1 & !x_2_1) & !(x_2_1 & x_2_1)) | (!(!x_2_1 & !x_2_1) & (!x_2_1 & x_2_1) & !(x_2_1 & !x_2_1) & !(x_2_1 & x_2_1)) | (!(!x_2_1 & !x_2_1) & !(!x_2_1 & x_2_1) & (x_2_1 & !x_2_1) & !(x_2_1 & x_2_1)) | (!(!x_2_1 & !x_2_1) & !(!x_2_1 & x_2_1) & !(x_2_1 & !x_2_1) & (x_2_1 & x_2_1))',\n",
       " '((!x_3_1 & !x_3_1) & !(!x_3_1 & x_3_1) & !(x_3_1 & !x_3_1) & !(x_3_1 & x_3_1)) | (!(!x_3_1 & !x_3_1) & (!x_3_1 & x_3_1) & !(x_3_1 & !x_3_1) & !(x_3_1 & x_3_1)) | (!(!x_3_1 & !x_3_1) & !(!x_3_1 & x_3_1) & (x_3_1 & !x_3_1) & !(x_3_1 & x_3_1)) | (!(!x_3_1 & !x_3_1) & !(!x_3_1 & x_3_1) & !(x_3_1 & !x_3_1) & (x_3_1 & x_3_1))',\n",
       " '((!x_4_1 & !x_4_1) & !(!x_4_1 & x_4_1) & !(x_4_1 & !x_4_1) & !(x_4_1 & x_4_1)) | (!(!x_4_1 & !x_4_1) & (!x_4_1 & x_4_1) & !(x_4_1 & !x_4_1) & !(x_4_1 & x_4_1)) | (!(!x_4_1 & !x_4_1) & !(!x_4_1 & x_4_1) & (x_4_1 & !x_4_1) & !(x_4_1 & x_4_1)) | (!(!x_4_1 & !x_4_1) & !(!x_4_1 & x_4_1) & !(x_4_1 & !x_4_1) & (x_4_1 & x_4_1))',\n",
       " '((!x_5_1 & !x_5_1) & !(!x_5_1 & x_5_1) & !(x_5_1 & !x_5_1) & !(x_5_1 & x_5_1)) | (!(!x_5_1 & !x_5_1) & (!x_5_1 & x_5_1) & !(x_5_1 & !x_5_1) & !(x_5_1 & x_5_1)) | (!(!x_5_1 & !x_5_1) & !(!x_5_1 & x_5_1) & (x_5_1 & !x_5_1) & !(x_5_1 & x_5_1)) | (!(!x_5_1 & !x_5_1) & !(!x_5_1 & x_5_1) & !(x_5_1 & !x_5_1) & (x_5_1 & x_5_1))',\n",
       " '((!x_6_1 & !x_6_1) & !(!x_6_1 & x_6_1) & !(x_6_1 & !x_6_1) & !(x_6_1 & x_6_1)) | (!(!x_6_1 & !x_6_1) & (!x_6_1 & x_6_1) & !(x_6_1 & !x_6_1) & !(x_6_1 & x_6_1)) | (!(!x_6_1 & !x_6_1) & !(!x_6_1 & x_6_1) & (x_6_1 & !x_6_1) & !(x_6_1 & x_6_1)) | (!(!x_6_1 & !x_6_1) & !(!x_6_1 & x_6_1) & !(x_6_1 & !x_6_1) & (x_6_1 & x_6_1))',\n",
       " '((!x_7_1 & !x_7_1) & !(!x_7_1 & x_7_1) & !(x_7_1 & !x_7_1) & !(x_7_1 & x_7_1)) | (!(!x_7_1 & !x_7_1) & (!x_7_1 & x_7_1) & !(x_7_1 & !x_7_1) & !(x_7_1 & x_7_1)) | (!(!x_7_1 & !x_7_1) & !(!x_7_1 & x_7_1) & (x_7_1 & !x_7_1) & !(x_7_1 & x_7_1)) | (!(!x_7_1 & !x_7_1) & !(!x_7_1 & x_7_1) & !(x_7_1 & !x_7_1) & (x_7_1 & x_7_1))']"
      ]
     },
     "execution_count": 12,
     "metadata": {},
     "output_type": "execute_result"
    }
   ],
   "source": [
    "nodes = [1,2,3,4,5,6,7]\n",
    "color_nr = 4\n",
    "bits_needed = (color_nr-1).bit_length()\n",
    "clauses = []\n",
    "vars = []\n",
    "\n",
    "# Create clauses for the statement, a vertex may have only one color.\n",
    "for node in nodes:\n",
    "    for i in range(color_nr):\n",
    "        current = bin(i)[2:]\n",
    "        current = f'{current.zfill(bits_needed)}'\n",
    "\n",
    "        for j in range(bits_needed):\n",
    "            clause = []\n",
    "            for nr in current:\n",
    "                clause.append(f'!x_{node}_{j}' if nr==\"0\" else f'x_{node}_{j}')\n",
    "        vars.append(\"(\" + \" & \".join(clause) + \")\")\n",
    "\n",
    "for i in range(0, len(nodes)*color_nr, color_nr):\n",
    "    variable_group = vars[i:i+color_nr]\n",
    "    clause = []\n",
    "\n",
    "    # Create a clause for each combination of variables in the group\n",
    "    for j in range(color_nr):\n",
    "        variable_combo = [f\"{'!' if l != j else ''}{variable}\" for l, variable in enumerate(variable_group)]\n",
    "        clause.append(\"(\" + \" & \".join(variable_combo) + \")\")\n",
    "\n",
    "    # Combine the individual clauses with ' | ' to ensure only one is true    \n",
    "    clauses.append(\" | \".join(clause))\n",
    "\n",
    "\n",
    "clauses"
   ]
  }
 ],
 "metadata": {
  "kernelspec": {
   "display_name": "base",
   "language": "python",
   "name": "python3"
  },
  "language_info": {
   "codemirror_mode": {
    "name": "ipython",
    "version": 3
   },
   "file_extension": ".py",
   "mimetype": "text/x-python",
   "name": "python",
   "nbconvert_exporter": "python",
   "pygments_lexer": "ipython3",
   "version": "3.9.7"
  }
 },
 "nbformat": 4,
 "nbformat_minor": 2
}
