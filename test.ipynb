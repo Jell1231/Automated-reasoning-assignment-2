{
 "cells": [
  {
   "cell_type": "code",
   "execution_count": 25,
   "metadata": {},
   "outputs": [
    {
     "name": "stdout",
     "output_type": "stream",
     "text": [
      "Note: you may need to restart the kernel to use updated packages.\n"
     ]
    },
    {
     "name": "stderr",
     "output_type": "stream",
     "text": [
      "\n",
      "Usage:   \n",
      "  c:\\Users\\20183239\\Anaconda3\\python.exe -m pip install [options] <requirement specifier> [package-index-options] ...\n",
      "  c:\\Users\\20183239\\Anaconda3\\python.exe -m pip install [options] -r <requirements file> [package-index-options] ...\n",
      "  c:\\Users\\20183239\\Anaconda3\\python.exe -m pip install [options] [-e] <vcs project url> ...\n",
      "  c:\\Users\\20183239\\Anaconda3\\python.exe -m pip install [options] [-e] <local project path> ...\n",
      "  c:\\Users\\20183239\\Anaconda3\\python.exe -m pip install [options] <archive url/path> ...\n",
      "\n",
      "no such option: --cudd\n"
     ]
    }
   ],
   "source": [
    "pip install dd --cudd"
   ]
  },
  {
   "cell_type": "code",
   "execution_count": 2,
   "metadata": {},
   "outputs": [],
   "source": [
    "from dd.autoref import BDD, Function\n",
    "\n",
    "bdd = BDD()\n",
    "[bdd.add_var(var) for var in ['x_10_9', 'y']]\n",
    "u = bdd.add_expr('x_10_9 & y') # TLA+ syntax\n",
    "u = bdd.add_expr('x_10_9 | y') # Promela syntax\n"
   ]
  },
  {
   "cell_type": "code",
   "execution_count": 3,
   "metadata": {},
   "outputs": [
    {
     "name": "stdout",
     "output_type": "stream",
     "text": [
      "False\n",
      "True\n"
     ]
    }
   ],
   "source": [
    "bdd = BDD()\n",
    "x = ['x', 'y', 'z']\n",
    "[bdd.add_var(var) for var in x]\n",
    "u = bdd.add_expr(r'(x /\\ y) \\/ ~ z')\n",
    "print(u.negated)\n",
    "v = ~ u\n",
    "print(v.negated)\n",
    "bdd.collect_garbage()\n",
    "bdd.dump('manager.p')"
   ]
  },
  {
   "cell_type": "code",
   "execution_count": 31,
   "metadata": {},
   "outputs": [
    {
     "name": "stdout",
     "output_type": "stream",
     "text": [
      "b\n"
     ]
    }
   ],
   "source": [
    "a = bdd.add_var('a')\n",
    "b = bdd.add_var('b')\n",
    "u = bdd.add_expr('a & b')\n",
    "print(bdd.var_at_level(4))\n"
   ]
  },
  {
   "cell_type": "code",
   "execution_count": null,
   "metadata": {},
   "outputs": [],
   "source": []
  }
 ],
 "metadata": {
  "kernelspec": {
   "display_name": "base",
   "language": "python",
   "name": "python3"
  },
  "language_info": {
   "codemirror_mode": {
    "name": "ipython",
    "version": 3
   },
   "file_extension": ".py",
   "mimetype": "text/x-python",
   "name": "python",
   "nbconvert_exporter": "python",
   "pygments_lexer": "ipython3",
   "version": "3.9.7"
  }
 },
 "nbformat": 4,
 "nbformat_minor": 2
}
